{
  "nbformat": 4,
  "nbformat_minor": 0,
  "metadata": {
    "colab": {
      "provenance": [],
      "include_colab_link": true
    },
    "kernelspec": {
      "name": "python3",
      "display_name": "Python 3"
    },
    "language_info": {
      "name": "python"
    }
  },
  "cells": [
    {
      "cell_type": "markdown",
      "metadata": {
        "id": "view-in-github",
        "colab_type": "text"
      },
      "source": [
        "<a href=\"https://colab.research.google.com/github/jahnavirishikesh/contradiction_detection/blob/main/contradiction_detection.ipynb\" target=\"_parent\"><img src=\"https://colab.research.google.com/assets/colab-badge.svg\" alt=\"Open In Colab\"/></a>"
      ]
    },
    {
      "cell_type": "code",
      "execution_count": 22,
      "metadata": {
        "id": "8-CPTDXiAcqL"
      },
      "outputs": [],
      "source": [
        "\n",
        "import pandas as pd\n",
        "import numpy as np\n",
        "import tensorflow as tf\n",
        "from tensorflow.keras import Model\n",
        "from tensorflow.keras.preprocessing.text import Tokenizer\n",
        "from tensorflow.keras.models import Sequential\n",
        "from tensorflow.keras.layers import Dense, LSTM, Embedding\n",
        "from tensorflow.keras.preprocessing import sequence"
      ]
    },
    {
      "cell_type": "code",
      "source": [
        "# Load the data\n",
        "train_data = pd.read_csv('train.csv')\n",
        "test_data = pd.read_csv('test.csv')\n",
        "\n",
        "# For training data\n",
        "X_train = train_data[['SENTENCE A', 'SENTENCE B']]\n",
        "y_train = train_data['label']\n",
        "\n",
        "# For testing data\n",
        "X_test = test_data[['Question', 'Answer 1', 'Answer 2']]\n",
        "y_test = test_data['label']\n",
        "\n",
        "# Handle missing values in the test dataset\n",
        "X_test = X_test.fillna('')"
      ],
      "metadata": {
        "id": "jp9rmjvsOgZp"
      },
      "execution_count": 9,
      "outputs": []
    },
    {
      "cell_type": "code",
      "source": [
        "# Tokenize the text data and pad the sequences\n",
        "tokenizer = Tokenizer()\n",
        "tokenizer.fit_on_texts(X_train['SENTENCE A'] + X_train['SENTENCE B'])\n",
        "X_train_seq_A = tokenizer.texts_to_sequences(X_train['SENTENCE A'])\n",
        "X_train_seq_B = tokenizer.texts_to_sequences(X_train['SENTENCE B'])\n",
        "\n",
        "X_test_seq = tokenizer.texts_to_sequences(X_test['Question'] + X_test['Answer 1'] + X_test['Answer 2'])\n",
        "\n",
        "# Pad sequences to a fixed length\n",
        "max_sequence_length = 100\n",
        "X_train_padded_A = pad_sequences(X_train_seq_A, maxlen=max_sequence_length, padding='post')\n",
        "X_train_padded_B = pad_sequences(X_train_seq_B, maxlen=max_sequence_length, padding='post')\n",
        "X_test_padded = pad_sequences(X_test_seq, maxlen=max_sequence_length, padding='post')"
      ],
      "metadata": {
        "id": "iQ7ZZN0sOqpU"
      },
      "execution_count": 10,
      "outputs": []
    },
    {
      "cell_type": "code",
      "source": [
        "# Build the LSTM model\n",
        "model = Sequential()\n",
        "embedding_dim = 100\n",
        "\n",
        "model.add(Embedding(input_dim=len(tokenizer.word_index) + 1, output_dim=embedding_dim, input_length=max_sequence_length))\n",
        "model.add(LSTM(128, return_sequences=True))\n",
        "model.add(LSTM(64, return_sequences=True))\n",
        "model.add(Dense(64, activation='relu'))\n",
        "model.add(Dropout(0.5))\n",
        "model.add(Dense(1, activation='sigmoid'))\n",
        "\n",
        "model.compile(optimizer='adam', loss='binary_crossentropy', metrics=['accuracy'])"
      ],
      "metadata": {
        "id": "M-etXP9WVZnx"
      },
      "execution_count": 11,
      "outputs": []
    },
    {
      "cell_type": "code",
      "source": [
        "import pandas as pd\n",
        "from keras.preprocessing.text import Tokenizer\n",
        "from keras.preprocessing.sequence import pad_sequences\n",
        "from keras.models import Model\n",
        "from keras.layers import Input, Embedding, LSTM, Dense, concatenate\n",
        "\n",
        "# Load the data\n",
        "train_data = pd.read_csv('train.csv')\n",
        "test_data = pd.read_csv('test.csv')\n",
        "\n",
        "# For training data\n",
        "X_train = train_data[['SENTENCE A', 'SENTENCE B']]\n",
        "y_train = train_data['label']\n",
        "\n",
        "# For testing data\n",
        "X_test = test_data[['Question', 'Answer 1', 'Answer 2']]\n",
        "y_test = test_data['label']\n",
        "\n",
        "# Handle missing values in the test dataset\n",
        "X_test = X_test.fillna('')\n",
        "\n",
        "# Tokenize and pad the text data\n",
        "max_sequence_length = 100\n",
        "tokenizer = Tokenizer()\n",
        "tokenizer.fit_on_texts(X_train['SENTENCE A'] + X_train['SENTENCE B'])\n",
        "\n",
        "X_train_seq_A = tokenizer.texts_to_sequences(X_train['SENTENCE A'])\n",
        "X_train_seq_B = tokenizer.texts_to_sequences(X_train['SENTENCE B'])\n",
        "X_test_seq_A = tokenizer.texts_to_sequences(X_test['Question'])\n",
        "X_test_seq_B = tokenizer.texts_to_sequences(X_test['Answer 1'])\n",
        "\n",
        "X_train_padded_A = pad_sequences(X_train_seq_A, maxlen=max_sequence_length)\n",
        "X_train_padded_B = pad_sequences(X_train_seq_B, maxlen=max_sequence_length)\n",
        "X_test_padded_A = pad_sequences(X_test_seq_A, maxlen=max_sequence_length)\n",
        "X_test_padded_B = pad_sequences(X_test_seq_B, maxlen=max_sequence_length)\n",
        "\n",
        "# Define the model using Functional API\n",
        "vocab_size = len(tokenizer.word_index) + 1\n",
        "embedding_dim = 100\n",
        "\n",
        "input_A = Input(shape=(max_sequence_length,))\n",
        "input_B = Input(shape=(max_sequence_length,))\n",
        "\n",
        "embedding_layer = Embedding(input_dim=vocab_size, output_dim=embedding_dim)\n",
        "\n",
        "embedded_A = embedding_layer(input_A)\n",
        "embedded_B = embedding_layer(input_B)\n",
        "\n",
        "lstm_layer = LSTM(64)\n",
        "\n",
        "lstm_output_A = lstm_layer(embedded_A)\n",
        "lstm_output_B = lstm_layer(embedded_B)\n",
        "\n",
        "concatenated_output = concatenate([lstm_output_A, lstm_output_B], axis=-1)\n",
        "\n",
        "dense_layer = Dense(64, activation='relu')(concatenated_output)\n",
        "output = Dense(1, activation='sigmoid')(dense_layer)\n",
        "\n",
        "model = Model(inputs=[input_A, input_B], outputs=output)\n",
        "\n",
        "model.compile(optimizer='adam', loss='binary_crossentropy', metrics=['accuracy'])\n",
        "\n",
        "model.summary()\n",
        "\n",
        "# Train the model\n",
        "epochs = 50\n",
        "batch_size = 64\n",
        "model.fit(x=[X_train_padded_A, X_train_padded_B], y=y_train, epochs=epochs, batch_size=batch_size, validation_split=0.2)\n",
        "\n",
        "# Evaluate the model\n",
        "loss, accuracy = model.evaluate(x=[X_test_padded_A, X_test_padded_B], y=y_test)\n",
        "print(f'Test loss: {loss:.4f}')\n",
        "print(f'Test accuracy: {accuracy:.4f}')\n"
      ],
      "metadata": {
        "colab": {
          "base_uri": "https://localhost:8080/"
        },
        "id": "41qHIe7ujo5B",
        "outputId": "7b9c43d1-9b0a-4908-ab89-b11aa633c9f5"
      },
      "execution_count": 21,
      "outputs": [
        {
          "output_type": "stream",
          "name": "stdout",
          "text": [
            "Model: \"model_2\"\n",
            "__________________________________________________________________________________________________\n",
            " Layer (type)                Output Shape                 Param #   Connected to                  \n",
            "==================================================================================================\n",
            " input_5 (InputLayer)        [(None, 100)]                0         []                            \n",
            "                                                                                                  \n",
            " input_6 (InputLayer)        [(None, 100)]                0         []                            \n",
            "                                                                                                  \n",
            " embedding_3 (Embedding)     (None, 100, 100)             453900    ['input_5[0][0]',             \n",
            "                                                                     'input_6[0][0]']             \n",
            "                                                                                                  \n",
            " lstm_4 (LSTM)               (None, 64)                   42240     ['embedding_3[0][0]',         \n",
            "                                                                     'embedding_3[1][0]']         \n",
            "                                                                                                  \n",
            " concatenate_2 (Concatenate  (None, 128)                  0         ['lstm_4[0][0]',              \n",
            " )                                                                   'lstm_4[1][0]']              \n",
            "                                                                                                  \n",
            " dense_6 (Dense)             (None, 64)                   8256      ['concatenate_2[0][0]']       \n",
            "                                                                                                  \n",
            " dense_7 (Dense)             (None, 1)                    65        ['dense_6[0][0]']             \n",
            "                                                                                                  \n",
            "==================================================================================================\n",
            "Total params: 504461 (1.92 MB)\n",
            "Trainable params: 504461 (1.92 MB)\n",
            "Non-trainable params: 0 (0.00 Byte)\n",
            "__________________________________________________________________________________________________\n",
            "Epoch 1/50\n",
            "92/92 [==============================] - 31s 267ms/step - loss: 0.5824 - accuracy: 0.7147 - val_loss: 0.3726 - val_accuracy: 0.8500\n",
            "Epoch 2/50\n",
            "92/92 [==============================] - 23s 255ms/step - loss: 0.3747 - accuracy: 0.8374 - val_loss: 0.3106 - val_accuracy: 0.8534\n",
            "Epoch 3/50\n",
            "92/92 [==============================] - 25s 275ms/step - loss: 0.3249 - accuracy: 0.8584 - val_loss: 0.3513 - val_accuracy: 0.8514\n",
            "Epoch 4/50\n",
            "92/92 [==============================] - 23s 255ms/step - loss: 0.3010 - accuracy: 0.8666 - val_loss: 0.3416 - val_accuracy: 0.8555\n",
            "Epoch 5/50\n",
            "92/92 [==============================] - 24s 259ms/step - loss: 0.2816 - accuracy: 0.8734 - val_loss: 0.3741 - val_accuracy: 0.8473\n",
            "Epoch 6/50\n",
            "92/92 [==============================] - 25s 271ms/step - loss: 0.2669 - accuracy: 0.8773 - val_loss: 0.4208 - val_accuracy: 0.8473\n",
            "Epoch 7/50\n",
            "92/92 [==============================] - 24s 259ms/step - loss: 0.2530 - accuracy: 0.8833 - val_loss: 0.4041 - val_accuracy: 0.8446\n",
            "Epoch 8/50\n",
            "92/92 [==============================] - 22s 237ms/step - loss: 0.2364 - accuracy: 0.8923 - val_loss: 0.4360 - val_accuracy: 0.8262\n",
            "Epoch 9/50\n",
            "92/92 [==============================] - 25s 273ms/step - loss: 0.2186 - accuracy: 0.8993 - val_loss: 0.4816 - val_accuracy: 0.8466\n",
            "Epoch 10/50\n",
            "92/92 [==============================] - 25s 272ms/step - loss: 0.1978 - accuracy: 0.9102 - val_loss: 0.5258 - val_accuracy: 0.8350\n",
            "Epoch 11/50\n",
            "92/92 [==============================] - 23s 256ms/step - loss: 0.1783 - accuracy: 0.9194 - val_loss: 0.5819 - val_accuracy: 0.8371\n",
            "Epoch 12/50\n",
            "92/92 [==============================] - 23s 251ms/step - loss: 0.1561 - accuracy: 0.9306 - val_loss: 0.6359 - val_accuracy: 0.8309\n",
            "Epoch 13/50\n",
            "92/92 [==============================] - 24s 257ms/step - loss: 0.1372 - accuracy: 0.9424 - val_loss: 0.7824 - val_accuracy: 0.8507\n",
            "Epoch 14/50\n",
            "92/92 [==============================] - 22s 239ms/step - loss: 0.1190 - accuracy: 0.9482 - val_loss: 0.7674 - val_accuracy: 0.8275\n",
            "Epoch 15/50\n",
            "92/92 [==============================] - 26s 284ms/step - loss: 0.1049 - accuracy: 0.9571 - val_loss: 0.9022 - val_accuracy: 0.8187\n",
            "Epoch 16/50\n",
            "92/92 [==============================] - 25s 270ms/step - loss: 0.0888 - accuracy: 0.9659 - val_loss: 1.0129 - val_accuracy: 0.8384\n",
            "Epoch 17/50\n",
            "92/92 [==============================] - 23s 249ms/step - loss: 0.0777 - accuracy: 0.9702 - val_loss: 1.0876 - val_accuracy: 0.8269\n",
            "Epoch 18/50\n",
            "92/92 [==============================] - 24s 262ms/step - loss: 0.0684 - accuracy: 0.9760 - val_loss: 1.1185 - val_accuracy: 0.8289\n",
            "Epoch 19/50\n",
            "92/92 [==============================] - 25s 269ms/step - loss: 0.0608 - accuracy: 0.9801 - val_loss: 1.2943 - val_accuracy: 0.8419\n",
            "Epoch 20/50\n",
            "92/92 [==============================] - 24s 256ms/step - loss: 0.0521 - accuracy: 0.9804 - val_loss: 1.3530 - val_accuracy: 0.8255\n",
            "Epoch 21/50\n",
            "92/92 [==============================] - 22s 243ms/step - loss: 0.0582 - accuracy: 0.9777 - val_loss: 1.2194 - val_accuracy: 0.8419\n",
            "Epoch 22/50\n",
            "92/92 [==============================] - 24s 260ms/step - loss: 0.0545 - accuracy: 0.9813 - val_loss: 1.4017 - val_accuracy: 0.8541\n",
            "Epoch 23/50\n",
            "92/92 [==============================] - 27s 289ms/step - loss: 0.0392 - accuracy: 0.9879 - val_loss: 1.4508 - val_accuracy: 0.8378\n",
            "Epoch 24/50\n",
            "92/92 [==============================] - 25s 269ms/step - loss: 0.0304 - accuracy: 0.9901 - val_loss: 1.6110 - val_accuracy: 0.8514\n",
            "Epoch 25/50\n",
            "92/92 [==============================] - 23s 251ms/step - loss: 0.0320 - accuracy: 0.9899 - val_loss: 1.5798 - val_accuracy: 0.8269\n",
            "Epoch 26/50\n",
            "92/92 [==============================] - 25s 270ms/step - loss: 0.0258 - accuracy: 0.9915 - val_loss: 1.5814 - val_accuracy: 0.8412\n",
            "Epoch 27/50\n",
            "92/92 [==============================] - 24s 265ms/step - loss: 0.0311 - accuracy: 0.9911 - val_loss: 1.3961 - val_accuracy: 0.8623\n",
            "Epoch 28/50\n",
            "92/92 [==============================] - 26s 285ms/step - loss: 0.0315 - accuracy: 0.9898 - val_loss: 1.5048 - val_accuracy: 0.8466\n",
            "Epoch 29/50\n",
            "92/92 [==============================] - 24s 258ms/step - loss: 0.0456 - accuracy: 0.9862 - val_loss: 1.4814 - val_accuracy: 0.8459\n",
            "Epoch 30/50\n",
            "92/92 [==============================] - 23s 253ms/step - loss: 0.0374 - accuracy: 0.9881 - val_loss: 1.3389 - val_accuracy: 0.8480\n",
            "Epoch 31/50\n",
            "92/92 [==============================] - 24s 260ms/step - loss: 0.0201 - accuracy: 0.9951 - val_loss: 1.4378 - val_accuracy: 0.8548\n",
            "Epoch 32/50\n",
            "92/92 [==============================] - 25s 272ms/step - loss: 0.0204 - accuracy: 0.9937 - val_loss: 1.4634 - val_accuracy: 0.8569\n",
            "Epoch 33/50\n",
            "92/92 [==============================] - 24s 259ms/step - loss: 0.0178 - accuracy: 0.9940 - val_loss: 1.5573 - val_accuracy: 0.8562\n",
            "Epoch 34/50\n",
            "92/92 [==============================] - 25s 271ms/step - loss: 0.0153 - accuracy: 0.9954 - val_loss: 1.6747 - val_accuracy: 0.8541\n",
            "Epoch 35/50\n",
            "92/92 [==============================] - 25s 270ms/step - loss: 0.0118 - accuracy: 0.9959 - val_loss: 1.7110 - val_accuracy: 0.8466\n",
            "Epoch 36/50\n",
            "92/92 [==============================] - 25s 269ms/step - loss: 0.0102 - accuracy: 0.9966 - val_loss: 1.7787 - val_accuracy: 0.8528\n",
            "Epoch 37/50\n",
            "92/92 [==============================] - 25s 275ms/step - loss: 0.0072 - accuracy: 0.9981 - val_loss: 1.7741 - val_accuracy: 0.8534\n",
            "Epoch 38/50\n",
            "92/92 [==============================] - 25s 272ms/step - loss: 0.0060 - accuracy: 0.9986 - val_loss: 1.7964 - val_accuracy: 0.8555\n",
            "Epoch 39/50\n",
            "92/92 [==============================] - 30s 330ms/step - loss: 0.0057 - accuracy: 0.9986 - val_loss: 1.9755 - val_accuracy: 0.8528\n",
            "Epoch 40/50\n",
            "92/92 [==============================] - 27s 290ms/step - loss: 0.0053 - accuracy: 0.9985 - val_loss: 1.9922 - val_accuracy: 0.8548\n",
            "Epoch 41/50\n",
            "92/92 [==============================] - 25s 271ms/step - loss: 0.0077 - accuracy: 0.9974 - val_loss: 1.9672 - val_accuracy: 0.8514\n",
            "Epoch 42/50\n",
            "92/92 [==============================] - 24s 261ms/step - loss: 0.0064 - accuracy: 0.9983 - val_loss: 2.0709 - val_accuracy: 0.8480\n",
            "Epoch 43/50\n",
            "92/92 [==============================] - 24s 257ms/step - loss: 0.0071 - accuracy: 0.9980 - val_loss: 2.0132 - val_accuracy: 0.8453\n",
            "Epoch 44/50\n",
            "92/92 [==============================] - 24s 254ms/step - loss: 0.0118 - accuracy: 0.9969 - val_loss: 1.9696 - val_accuracy: 0.8541\n",
            "Epoch 45/50\n",
            "92/92 [==============================] - 24s 264ms/step - loss: 0.0224 - accuracy: 0.9930 - val_loss: 1.9342 - val_accuracy: 0.8419\n",
            "Epoch 46/50\n",
            "92/92 [==============================] - 25s 267ms/step - loss: 0.1009 - accuracy: 0.9681 - val_loss: 1.3672 - val_accuracy: 0.8528\n",
            "Epoch 47/50\n",
            "92/92 [==============================] - 26s 286ms/step - loss: 0.0455 - accuracy: 0.9843 - val_loss: 1.3907 - val_accuracy: 0.8453\n",
            "Epoch 48/50\n",
            "92/92 [==============================] - 25s 268ms/step - loss: 0.0200 - accuracy: 0.9954 - val_loss: 1.4668 - val_accuracy: 0.8521\n",
            "Epoch 49/50\n",
            "92/92 [==============================] - 24s 260ms/step - loss: 0.0130 - accuracy: 0.9964 - val_loss: 1.5354 - val_accuracy: 0.8528\n",
            "Epoch 50/50\n",
            "92/92 [==============================] - 24s 263ms/step - loss: 0.0093 - accuracy: 0.9981 - val_loss: 1.6585 - val_accuracy: 0.8507\n",
            "5/5 [==============================] - 1s 30ms/step - loss: nan - accuracy: 0.4091\n",
            "Test loss: nan\n",
            "Test accuracy: 0.4091\n"
          ]
        }
      ]
    },
    {
      "cell_type": "code",
      "source": [
        "# Assuming X_test_padded_A and X_test_padded_B are defined from previous preprocessing\n",
        "\n",
        "# Choose two sentences for testing\n",
        "sentence_A = \"The sky is blue.\"\n",
        "sentence_B = \"The sky is red.\"\n",
        "\n",
        "# Tokenize and pad the test sentences\n",
        "test_seq_A = tokenizer.texts_to_sequences([sentence_A])\n",
        "test_seq_B = tokenizer.texts_to_sequences([sentence_B])\n",
        "test_padded_A = pad_sequences(test_seq_A, maxlen=max_sequence_length)\n",
        "test_padded_B = pad_sequences(test_seq_B, maxlen=max_sequence_length)\n",
        "\n",
        "# Make predictions\n",
        "predictions = model.predict([test_padded_A, test_padded_B])\n",
        "\n",
        "# Interpret the predictions\n",
        "for i in range(len(predictions)):\n",
        "    print(f\"Sentence A: '{sentence_A}'\")\n",
        "    print(f\"Sentence B: '{sentence_B}'\")\n",
        "    print(f\"Prediction (probability of contradiction): {predictions[i][0]:.4f}\")\n",
        "    if predictions[i][0] > 0.5:\n",
        "        print(\"Prediction: Contradiction\")\n",
        "    else:\n",
        "        print(\"Prediction: No Contradiction\")\n",
        "    print()\n"
      ],
      "metadata": {
        "colab": {
          "base_uri": "https://localhost:8080/"
        },
        "id": "vJ4tn1Hgk3dp",
        "outputId": "a905e1ad-424b-4afd-b08d-4025a35ec947"
      },
      "execution_count": 25,
      "outputs": [
        {
          "output_type": "stream",
          "name": "stdout",
          "text": [
            "1/1 [==============================] - 0s 38ms/step\n",
            "Sentence A: 'The sky is blue.'\n",
            "Sentence B: 'The sky is red.'\n",
            "Prediction (probability of contradiction): 0.0001\n",
            "Prediction: No Contradiction\n",
            "\n"
          ]
        }
      ]
    },
    {
      "cell_type": "code",
      "source": [
        "print (X_train_padded_A)"
      ],
      "metadata": {
        "colab": {
          "base_uri": "https://localhost:8080/"
        },
        "id": "1QdnEeiwTd-t",
        "outputId": "1ae81d31-62a9-47ae-a7c8-6b4ac78f2533"
      },
      "execution_count": 14,
      "outputs": [
        {
          "output_type": "stream",
          "name": "stdout",
          "text": [
            "[[   3 1380  526 ...    0    0    0]\n",
            " [1027 2196  649 ...    0    0    0]\n",
            " [ 390  771 1924 ...    0    0    0]\n",
            " ...\n",
            " [   1   22    2 ...    0    0    0]\n",
            " [   3   18   91 ...    0    0    0]\n",
            " [   1    4    2 ...    0    0    0]]\n"
          ]
        }
      ]
    },
    {
      "cell_type": "code",
      "source": [
        "# Train the model\n",
        "epochs = 10\n",
        "batch_size = 64\n",
        "model.fit(x=list([X_train_padded_A, X_train_padded_B], y=y_train, epochs=epochs, batch_size=batch_size, validation_split=0.2)\n",
        "\n",
        "# Evaluate the model\n",
        "loss, accuracy = model.evaluate(X_test_padded, y_test)\n",
        "print(f'Test loss: {loss:.4f}')\n",
        "print(f'Test accuracy: {accuracy:.4f}')"
      ],
      "metadata": {
        "colab": {
          "base_uri": "https://localhost:8080/",
          "height": 858
        },
        "id": "Y86_47oIb0Ju",
        "outputId": "977b0852-3085-4f63-e1a6-c739453f4eee"
      },
      "execution_count": 15,
      "outputs": [
        {
          "output_type": "stream",
          "name": "stdout",
          "text": [
            "Epoch 1/10\n"
          ]
        },
        {
          "output_type": "error",
          "ename": "ValueError",
          "evalue": "ignored",
          "traceback": [
            "\u001b[0;31m---------------------------------------------------------------------------\u001b[0m",
            "\u001b[0;31mValueError\u001b[0m                                Traceback (most recent call last)",
            "\u001b[0;32m<ipython-input-15-0216d1115049>\u001b[0m in \u001b[0;36m<cell line: 4>\u001b[0;34m()\u001b[0m\n\u001b[1;32m      2\u001b[0m \u001b[0mepochs\u001b[0m \u001b[0;34m=\u001b[0m \u001b[0;36m10\u001b[0m\u001b[0;34m\u001b[0m\u001b[0;34m\u001b[0m\u001b[0m\n\u001b[1;32m      3\u001b[0m \u001b[0mbatch_size\u001b[0m \u001b[0;34m=\u001b[0m \u001b[0;36m64\u001b[0m\u001b[0;34m\u001b[0m\u001b[0;34m\u001b[0m\u001b[0m\n\u001b[0;32m----> 4\u001b[0;31m \u001b[0mmodel\u001b[0m\u001b[0;34m.\u001b[0m\u001b[0mfit\u001b[0m\u001b[0;34m(\u001b[0m\u001b[0mx\u001b[0m\u001b[0;34m=\u001b[0m\u001b[0mlist\u001b[0m\u001b[0;34m(\u001b[0m\u001b[0;34m[\u001b[0m\u001b[0mX_train_padded_A\u001b[0m\u001b[0;34m,\u001b[0m \u001b[0mX_train_padded_B\u001b[0m\u001b[0;34m]\u001b[0m\u001b[0;34m)\u001b[0m\u001b[0;34m,\u001b[0m \u001b[0my\u001b[0m\u001b[0;34m=\u001b[0m\u001b[0my_train\u001b[0m\u001b[0;34m,\u001b[0m \u001b[0mepochs\u001b[0m\u001b[0;34m=\u001b[0m\u001b[0mepochs\u001b[0m\u001b[0;34m,\u001b[0m \u001b[0mbatch_size\u001b[0m\u001b[0;34m=\u001b[0m\u001b[0mbatch_size\u001b[0m\u001b[0;34m,\u001b[0m \u001b[0mvalidation_split\u001b[0m\u001b[0;34m=\u001b[0m\u001b[0;36m0.2\u001b[0m\u001b[0;34m)\u001b[0m\u001b[0;34m\u001b[0m\u001b[0;34m\u001b[0m\u001b[0m\n\u001b[0m\u001b[1;32m      5\u001b[0m \u001b[0;34m\u001b[0m\u001b[0m\n\u001b[1;32m      6\u001b[0m \u001b[0;31m# Evaluate the model\u001b[0m\u001b[0;34m\u001b[0m\u001b[0;34m\u001b[0m\u001b[0m\n",
            "\u001b[0;32m/usr/local/lib/python3.10/dist-packages/keras/src/utils/traceback_utils.py\u001b[0m in \u001b[0;36merror_handler\u001b[0;34m(*args, **kwargs)\u001b[0m\n\u001b[1;32m     68\u001b[0m             \u001b[0;31m# To get the full stack trace, call:\u001b[0m\u001b[0;34m\u001b[0m\u001b[0;34m\u001b[0m\u001b[0m\n\u001b[1;32m     69\u001b[0m             \u001b[0;31m# `tf.debugging.disable_traceback_filtering()`\u001b[0m\u001b[0;34m\u001b[0m\u001b[0;34m\u001b[0m\u001b[0m\n\u001b[0;32m---> 70\u001b[0;31m             \u001b[0;32mraise\u001b[0m \u001b[0me\u001b[0m\u001b[0;34m.\u001b[0m\u001b[0mwith_traceback\u001b[0m\u001b[0;34m(\u001b[0m\u001b[0mfiltered_tb\u001b[0m\u001b[0;34m)\u001b[0m \u001b[0;32mfrom\u001b[0m \u001b[0;32mNone\u001b[0m\u001b[0;34m\u001b[0m\u001b[0;34m\u001b[0m\u001b[0m\n\u001b[0m\u001b[1;32m     71\u001b[0m         \u001b[0;32mfinally\u001b[0m\u001b[0;34m:\u001b[0m\u001b[0;34m\u001b[0m\u001b[0;34m\u001b[0m\u001b[0m\n\u001b[1;32m     72\u001b[0m             \u001b[0;32mdel\u001b[0m \u001b[0mfiltered_tb\u001b[0m\u001b[0;34m\u001b[0m\u001b[0;34m\u001b[0m\u001b[0m\n",
            "\u001b[0;32m/usr/local/lib/python3.10/dist-packages/keras/src/engine/training.py\u001b[0m in \u001b[0;36mtf__train_function\u001b[0;34m(iterator)\u001b[0m\n\u001b[1;32m     13\u001b[0m                 \u001b[0;32mtry\u001b[0m\u001b[0;34m:\u001b[0m\u001b[0;34m\u001b[0m\u001b[0;34m\u001b[0m\u001b[0m\n\u001b[1;32m     14\u001b[0m                     \u001b[0mdo_return\u001b[0m \u001b[0;34m=\u001b[0m \u001b[0;32mTrue\u001b[0m\u001b[0;34m\u001b[0m\u001b[0;34m\u001b[0m\u001b[0m\n\u001b[0;32m---> 15\u001b[0;31m                     \u001b[0mretval_\u001b[0m \u001b[0;34m=\u001b[0m \u001b[0mag__\u001b[0m\u001b[0;34m.\u001b[0m\u001b[0mconverted_call\u001b[0m\u001b[0;34m(\u001b[0m\u001b[0mag__\u001b[0m\u001b[0;34m.\u001b[0m\u001b[0mld\u001b[0m\u001b[0;34m(\u001b[0m\u001b[0mstep_function\u001b[0m\u001b[0;34m)\u001b[0m\u001b[0;34m,\u001b[0m \u001b[0;34m(\u001b[0m\u001b[0mag__\u001b[0m\u001b[0;34m.\u001b[0m\u001b[0mld\u001b[0m\u001b[0;34m(\u001b[0m\u001b[0mself\u001b[0m\u001b[0;34m)\u001b[0m\u001b[0;34m,\u001b[0m \u001b[0mag__\u001b[0m\u001b[0;34m.\u001b[0m\u001b[0mld\u001b[0m\u001b[0;34m(\u001b[0m\u001b[0miterator\u001b[0m\u001b[0;34m)\u001b[0m\u001b[0;34m)\u001b[0m\u001b[0;34m,\u001b[0m \u001b[0;32mNone\u001b[0m\u001b[0;34m,\u001b[0m \u001b[0mfscope\u001b[0m\u001b[0;34m)\u001b[0m\u001b[0;34m\u001b[0m\u001b[0;34m\u001b[0m\u001b[0m\n\u001b[0m\u001b[1;32m     16\u001b[0m                 \u001b[0;32mexcept\u001b[0m\u001b[0;34m:\u001b[0m\u001b[0;34m\u001b[0m\u001b[0;34m\u001b[0m\u001b[0m\n\u001b[1;32m     17\u001b[0m                     \u001b[0mdo_return\u001b[0m \u001b[0;34m=\u001b[0m \u001b[0;32mFalse\u001b[0m\u001b[0;34m\u001b[0m\u001b[0;34m\u001b[0m\u001b[0m\n",
            "\u001b[0;31mValueError\u001b[0m: in user code:\n\n    File \"/usr/local/lib/python3.10/dist-packages/keras/src/engine/training.py\", line 1338, in train_function  *\n        return step_function(self, iterator)\n    File \"/usr/local/lib/python3.10/dist-packages/keras/src/engine/training.py\", line 1322, in step_function  **\n        outputs = model.distribute_strategy.run(run_step, args=(data,))\n    File \"/usr/local/lib/python3.10/dist-packages/keras/src/engine/training.py\", line 1303, in run_step  **\n        outputs = model.train_step(data)\n    File \"/usr/local/lib/python3.10/dist-packages/keras/src/engine/training.py\", line 1080, in train_step\n        y_pred = self(x, training=True)\n    File \"/usr/local/lib/python3.10/dist-packages/keras/src/utils/traceback_utils.py\", line 70, in error_handler\n        raise e.with_traceback(filtered_tb) from None\n    File \"/usr/local/lib/python3.10/dist-packages/keras/src/engine/input_spec.py\", line 219, in assert_input_compatibility\n        raise ValueError(\n\n    ValueError: Layer \"sequential\" expects 1 input(s), but it received 2 input tensors. Inputs received: [<tf.Tensor 'IteratorGetNext:0' shape=(None, 100) dtype=int32>, <tf.Tensor 'IteratorGetNext:1' shape=(None, 100) dtype=int32>]\n"
          ]
        }
      ]
    }
  ]
}